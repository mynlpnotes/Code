{
  "nbformat": 4,
  "nbformat_minor": 0,
  "metadata": {
    "colab": {
      "name": "tf2.x_Low_level_API_demo.ipynb",
      "provenance": []
    },
    "kernelspec": {
      "name": "python3",
      "display_name": "Python 3"
    },
    "language_info": {
      "name": "python"
    },
    "accelerator": "GPU"
  },
  "cells": [
    {
      "cell_type": "markdown",
      "metadata": {
        "id": "B9ecDAtcJt_N"
      },
      "source": [
        "# Tf 2.x low level API"
      ]
    },
    {
      "cell_type": "code",
      "metadata": {
        "id": "SdL6h7ChJgGH"
      },
      "source": [
        "import tensorflow as tf"
      ],
      "execution_count": 2,
      "outputs": []
    },
    {
      "cell_type": "code",
      "metadata": {
        "id": "oM4enaytKC6G"
      },
      "source": [
        "# What is keras? is it High level API or Low level?\n",
        "\n",
        "## High level API"
      ],
      "execution_count": 3,
      "outputs": []
    },
    {
      "cell_type": "markdown",
      "metadata": {
        "id": "GgknDFEcKZPB"
      },
      "source": [
        "## tensor constant\n",
        "\n",
        "### Tensor: Multi dim arrays"
      ]
    },
    {
      "cell_type": "code",
      "metadata": {
        "id": "kSNni2s0KK4K"
      },
      "source": [
        "const = tf.constant(43)"
      ],
      "execution_count": 4,
      "outputs": []
    },
    {
      "cell_type": "code",
      "metadata": {
        "colab": {
          "base_uri": "https://localhost:8080/"
        },
        "id": "Rn3dKBTmKyi2",
        "outputId": "9c5e8e62-5aa2-4ac7-9afd-d31a027639f0"
      },
      "source": [
        "const"
      ],
      "execution_count": 5,
      "outputs": [
        {
          "output_type": "execute_result",
          "data": {
            "text/plain": [
              "<tf.Tensor: shape=(), dtype=int32, numpy=43>"
            ]
          },
          "metadata": {},
          "execution_count": 5
        }
      ]
    },
    {
      "cell_type": "code",
      "metadata": {
        "colab": {
          "base_uri": "https://localhost:8080/"
        },
        "id": "LSxhc4sUKzgK",
        "outputId": "bebe6dc7-6ca7-496e-b611-aa32701636fc"
      },
      "source": [
        "const.numpy()\n"
      ],
      "execution_count": 6,
      "outputs": [
        {
          "output_type": "execute_result",
          "data": {
            "text/plain": [
              "43"
            ]
          },
          "metadata": {},
          "execution_count": 6
        }
      ]
    },
    {
      "cell_type": "code",
      "metadata": {
        "colab": {
          "base_uri": "https://localhost:8080/"
        },
        "id": "arT3aclNK9BJ",
        "outputId": "ab34aae1-c487-447e-c69e-3156979761db"
      },
      "source": [
        "## specify the datatype\n",
        "const = tf.constant(43, dtype=tf.int64)\n",
        "const"
      ],
      "execution_count": 7,
      "outputs": [
        {
          "output_type": "execute_result",
          "data": {
            "text/plain": [
              "<tf.Tensor: shape=(), dtype=int64, numpy=43>"
            ]
          },
          "metadata": {},
          "execution_count": 7
        }
      ]
    },
    {
      "cell_type": "code",
      "metadata": {
        "colab": {
          "base_uri": "https://localhost:8080/"
        },
        "id": "NbABqxkxLMp0",
        "outputId": "18545c2c-9313-48dd-92cd-3ac1e5c81548"
      },
      "source": [
        "const_mat = tf.constant([[4,2],[9,5]])\n",
        "const_mat"
      ],
      "execution_count": 8,
      "outputs": [
        {
          "output_type": "execute_result",
          "data": {
            "text/plain": [
              "<tf.Tensor: shape=(2, 2), dtype=int32, numpy=\n",
              "array([[4, 2],\n",
              "       [9, 5]], dtype=int32)>"
            ]
          },
          "metadata": {},
          "execution_count": 8
        }
      ]
    },
    {
      "cell_type": "code",
      "metadata": {
        "colab": {
          "base_uri": "https://localhost:8080/"
        },
        "id": "ovv9mu_jLdWV",
        "outputId": "1b4b49ad-6ed2-430c-e2f6-0bdd17fc41c3"
      },
      "source": [
        "const_mat.shape"
      ],
      "execution_count": 9,
      "outputs": [
        {
          "output_type": "execute_result",
          "data": {
            "text/plain": [
              "TensorShape([2, 2])"
            ]
          },
          "metadata": {},
          "execution_count": 9
        }
      ]
    },
    {
      "cell_type": "code",
      "metadata": {
        "colab": {
          "base_uri": "https://localhost:8080/"
        },
        "id": "YjiX1JtpLl9i",
        "outputId": "5910dd04-e3a9-40be-aeb2-b89497ea3a79"
      },
      "source": [
        "const_mat.dtype"
      ],
      "execution_count": 10,
      "outputs": [
        {
          "output_type": "execute_result",
          "data": {
            "text/plain": [
              "tf.int32"
            ]
          },
          "metadata": {},
          "execution_count": 10
        }
      ]
    },
    {
      "cell_type": "markdown",
      "metadata": {
        "id": "DCr6-i0GL0eW"
      },
      "source": [
        "`observe: Increase the no. hidden layers and observe what happens to size of the model that you save.\n",
        "\n",
        "Query: Before and after training will the model size will remain same or increase or decrease? ==> remains same`"
      ]
    },
    {
      "cell_type": "markdown",
      "metadata": {
        "id": "u-O4Z4BgM1xI"
      },
      "source": [
        "## Commonly used method"
      ]
    },
    {
      "cell_type": "code",
      "metadata": {
        "colab": {
          "base_uri": "https://localhost:8080/"
        },
        "id": "MbCS7lctLqKJ",
        "outputId": "1adc18ce-8414-4e9a-b334-e9a95f5e92e7"
      },
      "source": [
        "tf.ones(shape=(2,3))"
      ],
      "execution_count": 11,
      "outputs": [
        {
          "output_type": "execute_result",
          "data": {
            "text/plain": [
              "<tf.Tensor: shape=(2, 3), dtype=float32, numpy=\n",
              "array([[1., 1., 1.],\n",
              "       [1., 1., 1.]], dtype=float32)>"
            ]
          },
          "metadata": {},
          "execution_count": 11
        }
      ]
    },
    {
      "cell_type": "code",
      "metadata": {
        "colab": {
          "base_uri": "https://localhost:8080/"
        },
        "id": "u2XUog5BNOjs",
        "outputId": "2e25c4ee-333a-4f52-ce95-65c0d2cb63f0"
      },
      "source": [
        "5 * tf.ones(shape=(2,3))"
      ],
      "execution_count": 12,
      "outputs": [
        {
          "output_type": "execute_result",
          "data": {
            "text/plain": [
              "<tf.Tensor: shape=(2, 3), dtype=float32, numpy=\n",
              "array([[5., 5., 5.],\n",
              "       [5., 5., 5.]], dtype=float32)>"
            ]
          },
          "metadata": {},
          "execution_count": 12
        }
      ]
    },
    {
      "cell_type": "code",
      "metadata": {
        "colab": {
          "base_uri": "https://localhost:8080/"
        },
        "id": "cd4PzAjSNDD8",
        "outputId": "19dda97a-6e3f-4eb3-b24d-cfd9b83682f2"
      },
      "source": [
        "tf.zeros(shape=(2,3))"
      ],
      "execution_count": 13,
      "outputs": [
        {
          "output_type": "execute_result",
          "data": {
            "text/plain": [
              "<tf.Tensor: shape=(2, 3), dtype=float32, numpy=\n",
              "array([[0., 0., 0.],\n",
              "       [0., 0., 0.]], dtype=float32)>"
            ]
          },
          "metadata": {},
          "execution_count": 13
        }
      ]
    },
    {
      "cell_type": "markdown",
      "metadata": {
        "id": "vHbr_Ta9NlnV"
      },
      "source": [
        "## add operations"
      ]
    },
    {
      "cell_type": "code",
      "metadata": {
        "id": "6H33On74NL0L"
      },
      "source": [
        "const1 = tf.constant([[11,3,4],[3,4,5]])\n",
        "const2 = tf.constant([[7,9,5],[3,4,5]])"
      ],
      "execution_count": 14,
      "outputs": []
    },
    {
      "cell_type": "code",
      "metadata": {
        "colab": {
          "base_uri": "https://localhost:8080/"
        },
        "id": "eqdRi-7QN1HT",
        "outputId": "58639783-09cc-47bd-ba0a-eed5cd1cb11b"
      },
      "source": [
        "result = tf.add(const1, const2)\n",
        "result"
      ],
      "execution_count": 15,
      "outputs": [
        {
          "output_type": "execute_result",
          "data": {
            "text/plain": [
              "<tf.Tensor: shape=(2, 3), dtype=int32, numpy=\n",
              "array([[18, 12,  9],\n",
              "       [ 6,  8, 10]], dtype=int32)>"
            ]
          },
          "metadata": {},
          "execution_count": 15
        }
      ]
    },
    {
      "cell_type": "code",
      "metadata": {
        "colab": {
          "base_uri": "https://localhost:8080/"
        },
        "id": "Ql-LAfscOAYW",
        "outputId": "92a16483-09bd-4f4b-88c5-84dcaa895bee"
      },
      "source": [
        "const1 + const2"
      ],
      "execution_count": 16,
      "outputs": [
        {
          "output_type": "execute_result",
          "data": {
            "text/plain": [
              "<tf.Tensor: shape=(2, 3), dtype=int32, numpy=\n",
              "array([[18, 12,  9],\n",
              "       [ 6,  8, 10]], dtype=int32)>"
            ]
          },
          "metadata": {},
          "execution_count": 16
        }
      ]
    },
    {
      "cell_type": "markdown",
      "metadata": {
        "id": "5SvTYstMOyUY"
      },
      "source": [
        "## Random const"
      ]
    },
    {
      "cell_type": "code",
      "metadata": {
        "colab": {
          "base_uri": "https://localhost:8080/"
        },
        "id": "6e3cbb83Oqsd",
        "outputId": "74dc983a-87eb-4f91-9c43-80d57c9107b0"
      },
      "source": [
        "x = tf.random.normal(shape=(2,2), mean=0, stddev=1.0)\n",
        "x"
      ],
      "execution_count": 17,
      "outputs": [
        {
          "output_type": "execute_result",
          "data": {
            "text/plain": [
              "<tf.Tensor: shape=(2, 2), dtype=float32, numpy=\n",
              "array([[-1.1277635 ,  0.6658776 ],\n",
              "       [-0.39531884,  0.2930943 ]], dtype=float32)>"
            ]
          },
          "metadata": {},
          "execution_count": 17
        }
      ]
    },
    {
      "cell_type": "code",
      "metadata": {
        "colab": {
          "base_uri": "https://localhost:8080/"
        },
        "id": "J_l1VARkPAWs",
        "outputId": "c9228f2b-c892-4ec4-b807-c91094bca4e0"
      },
      "source": [
        "x = tf.random.uniform(shape=(2,2), minval=0, maxval=10)\n",
        "x"
      ],
      "execution_count": 18,
      "outputs": [
        {
          "output_type": "execute_result",
          "data": {
            "text/plain": [
              "<tf.Tensor: shape=(2, 2), dtype=float32, numpy=\n",
              "array([[4.5149527, 5.8758307],\n",
              "       [8.607608 , 7.8300643]], dtype=float32)>"
            ]
          },
          "metadata": {},
          "execution_count": 18
        }
      ]
    },
    {
      "cell_type": "code",
      "metadata": {
        "colab": {
          "base_uri": "https://localhost:8080/"
        },
        "id": "K63t_onQPepb",
        "outputId": "35ee8ba4-6aff-4008-d51f-075174b78085"
      },
      "source": [
        "x = tf.random.uniform(shape=(2,2), minval=0, maxval=10, dtype=tf.int32)\n",
        "x"
      ],
      "execution_count": 19,
      "outputs": [
        {
          "output_type": "execute_result",
          "data": {
            "text/plain": [
              "<tf.Tensor: shape=(2, 2), dtype=int32, numpy=\n",
              "array([[6, 6],\n",
              "       [6, 9]], dtype=int32)>"
            ]
          },
          "metadata": {},
          "execution_count": 19
        }
      ]
    },
    {
      "cell_type": "markdown",
      "metadata": {
        "id": "aFn9GLnIPyAW"
      },
      "source": [
        "## Variables\n",
        "\n"
      ]
    },
    {
      "cell_type": "code",
      "metadata": {
        "id": "rxX--18ZPqOj"
      },
      "source": [
        "var1 = tf.Variable(45)\n",
        "\n",
        "var2 = tf.Variable([[4,2],[9,5]])"
      ],
      "execution_count": 20,
      "outputs": []
    },
    {
      "cell_type": "code",
      "metadata": {
        "colab": {
          "base_uri": "https://localhost:8080/"
        },
        "id": "RJZhwwxsQ8v0",
        "outputId": "05855105-ed27-40c4-8d2a-ccf314257405"
      },
      "source": [
        "var1"
      ],
      "execution_count": 21,
      "outputs": [
        {
          "output_type": "execute_result",
          "data": {
            "text/plain": [
              "<tf.Variable 'Variable:0' shape=() dtype=int32, numpy=45>"
            ]
          },
          "metadata": {},
          "execution_count": 21
        }
      ]
    },
    {
      "cell_type": "code",
      "metadata": {
        "colab": {
          "base_uri": "https://localhost:8080/"
        },
        "id": "j6UO7vTSQ-Ui",
        "outputId": "4fd47c36-e92a-482b-c426-8f8c8bde861d"
      },
      "source": [
        "var1.numpy()"
      ],
      "execution_count": 22,
      "outputs": [
        {
          "output_type": "execute_result",
          "data": {
            "text/plain": [
              "45"
            ]
          },
          "metadata": {},
          "execution_count": 22
        }
      ]
    },
    {
      "cell_type": "code",
      "metadata": {
        "colab": {
          "base_uri": "https://localhost:8080/"
        },
        "id": "OHNj31OLRI2f",
        "outputId": "2d0c9ea0-0dfa-4106-fdda-cc8ac949b6fc"
      },
      "source": [
        "var1 = tf.Variable(45.4)\n",
        "var1"
      ],
      "execution_count": 23,
      "outputs": [
        {
          "output_type": "execute_result",
          "data": {
            "text/plain": [
              "<tf.Variable 'Variable:0' shape=() dtype=float32, numpy=45.4>"
            ]
          },
          "metadata": {},
          "execution_count": 23
        }
      ]
    },
    {
      "cell_type": "code",
      "metadata": {
        "colab": {
          "base_uri": "https://localhost:8080/"
        },
        "id": "OJ2qJlqnRXu2",
        "outputId": "444558c4-f856-410d-cea8-bc86c99ed899"
      },
      "source": [
        "var1 = tf.Variable(45.4, dtype=tf.float16)\n",
        "var1"
      ],
      "execution_count": 24,
      "outputs": [
        {
          "output_type": "execute_result",
          "data": {
            "text/plain": [
              "<tf.Variable 'Variable:0' shape=() dtype=float16, numpy=45.4>"
            ]
          },
          "metadata": {},
          "execution_count": 24
        }
      ]
    },
    {
      "cell_type": "markdown",
      "metadata": {
        "id": "1OZS7nuEToEp"
      },
      "source": [
        "reassign a variable, var.assign()"
      ]
    },
    {
      "cell_type": "code",
      "metadata": {
        "id": "e5M7bHcfRv77"
      },
      "source": [
        "var1 = tf.Variable(45.4, dtype=tf.float16)"
      ],
      "execution_count": 25,
      "outputs": []
    },
    {
      "cell_type": "code",
      "metadata": {
        "colab": {
          "base_uri": "https://localhost:8080/"
        },
        "id": "dC6aE0jtRcpi",
        "outputId": "719fb6b6-5d3d-4a2f-a863-63dbe44a24fe"
      },
      "source": [
        "var1.assign(99)\n",
        "var1"
      ],
      "execution_count": 26,
      "outputs": [
        {
          "output_type": "execute_result",
          "data": {
            "text/plain": [
              "<tf.Variable 'Variable:0' shape=() dtype=float16, numpy=99.0>"
            ]
          },
          "metadata": {},
          "execution_count": 26
        }
      ]
    },
    {
      "cell_type": "markdown",
      "metadata": {
        "id": "YhhbN4GBUI5H"
      },
      "source": [
        "### reshaping operation"
      ]
    },
    {
      "cell_type": "code",
      "metadata": {
        "colab": {
          "base_uri": "https://localhost:8080/"
        },
        "id": "HYeBRsZ_T5RF",
        "outputId": "a858b42b-a8bf-417b-f5a9-0063381f1722"
      },
      "source": [
        "tensor = tf.Variable([[[10, 11, 12], [13, 15, 18]],[[10, 11, 12], [13, 15, 18]]])\n",
        "tensor"
      ],
      "execution_count": 27,
      "outputs": [
        {
          "output_type": "execute_result",
          "data": {
            "text/plain": [
              "<tf.Variable 'Variable:0' shape=(2, 2, 3) dtype=int32, numpy=\n",
              "array([[[10, 11, 12],\n",
              "        [13, 15, 18]],\n",
              "\n",
              "       [[10, 11, 12],\n",
              "        [13, 15, 18]]], dtype=int32)>"
            ]
          },
          "metadata": {},
          "execution_count": 27
        }
      ]
    },
    {
      "cell_type": "code",
      "metadata": {
        "colab": {
          "base_uri": "https://localhost:8080/"
        },
        "id": "auyBdaSZWFe8",
        "outputId": "4105c86b-e4aa-4a91-f362-454f15b4684e"
      },
      "source": [
        "tf.rank(tensor)"
      ],
      "execution_count": 28,
      "outputs": [
        {
          "output_type": "execute_result",
          "data": {
            "text/plain": [
              "<tf.Tensor: shape=(), dtype=int32, numpy=3>"
            ]
          },
          "metadata": {},
          "execution_count": 28
        }
      ]
    },
    {
      "cell_type": "code",
      "metadata": {
        "colab": {
          "base_uri": "https://localhost:8080/"
        },
        "id": "8UcIrG41Uh3m",
        "outputId": "2f5d5fff-d1df-404f-df5d-d47c4e36379b"
      },
      "source": [
        "reshape_val = tf.reshape(tensor, [2,6])\n",
        "reshape_val"
      ],
      "execution_count": 29,
      "outputs": [
        {
          "output_type": "execute_result",
          "data": {
            "text/plain": [
              "<tf.Tensor: shape=(2, 6), dtype=int32, numpy=\n",
              "array([[10, 11, 12, 13, 15, 18],\n",
              "       [10, 11, 12, 13, 15, 18]], dtype=int32)>"
            ]
          },
          "metadata": {},
          "execution_count": 29
        }
      ]
    },
    {
      "cell_type": "code",
      "metadata": {
        "colab": {
          "base_uri": "https://localhost:8080/"
        },
        "id": "F9TGpC9cUyad",
        "outputId": "274b0685-6584-4634-9d81-0219b9853ab9"
      },
      "source": [
        "reshape_val = tf.reshape(tensor, [1,12])\n",
        "reshape_val"
      ],
      "execution_count": 30,
      "outputs": [
        {
          "output_type": "execute_result",
          "data": {
            "text/plain": [
              "<tf.Tensor: shape=(1, 12), dtype=int32, numpy=array([[10, 11, 12, 13, 15, 18, 10, 11, 12, 13, 15, 18]], dtype=int32)>"
            ]
          },
          "metadata": {},
          "execution_count": 30
        }
      ]
    },
    {
      "cell_type": "markdown",
      "metadata": {
        "id": "ze74sSuEV4zg"
      },
      "source": [
        "## Rank of tensor\n",
        "\n",
        "no of dimensions,"
      ]
    },
    {
      "cell_type": "code",
      "metadata": {
        "colab": {
          "base_uri": "https://localhost:8080/"
        },
        "id": "umwn4X4BVrdo",
        "outputId": "ba832a59-45a9-4943-d005-1bd888fd49c6"
      },
      "source": [
        "tf.rank(reshape_val)"
      ],
      "execution_count": 31,
      "outputs": [
        {
          "output_type": "execute_result",
          "data": {
            "text/plain": [
              "<tf.Tensor: shape=(), dtype=int32, numpy=2>"
            ]
          },
          "metadata": {},
          "execution_count": 31
        }
      ]
    },
    {
      "cell_type": "code",
      "metadata": {
        "colab": {
          "base_uri": "https://localhost:8080/"
        },
        "id": "nT9Sfj7iV3T0",
        "outputId": "dfbb910c-725b-4b2b-ab02-0dce297b0ebc"
      },
      "source": [
        "tensor"
      ],
      "execution_count": 32,
      "outputs": [
        {
          "output_type": "execute_result",
          "data": {
            "text/plain": [
              "<tf.Variable 'Variable:0' shape=(2, 2, 3) dtype=int32, numpy=\n",
              "array([[[10, 11, 12],\n",
              "        [13, 15, 18]],\n",
              "\n",
              "       [[10, 11, 12],\n",
              "        [13, 15, 18]]], dtype=int32)>"
            ]
          },
          "metadata": {},
          "execution_count": 32
        }
      ]
    },
    {
      "cell_type": "code",
      "metadata": {
        "colab": {
          "base_uri": "https://localhost:8080/"
        },
        "id": "KQieVeadWVbW",
        "outputId": "c7c619b9-903b-4976-9335-291a8940c5d7"
      },
      "source": [
        "tensor[0, 1, 1]"
      ],
      "execution_count": 33,
      "outputs": [
        {
          "output_type": "execute_result",
          "data": {
            "text/plain": [
              "<tf.Tensor: shape=(), dtype=int32, numpy=15>"
            ]
          },
          "metadata": {},
          "execution_count": 33
        }
      ]
    },
    {
      "cell_type": "code",
      "metadata": {
        "colab": {
          "base_uri": "https://localhost:8080/"
        },
        "id": "e6mI2lhWWlMb",
        "outputId": "8da47f19-352e-4545-dbb0-7cd4aca73ad1"
      },
      "source": [
        "tensor[0,:,1:]"
      ],
      "execution_count": 34,
      "outputs": [
        {
          "output_type": "execute_result",
          "data": {
            "text/plain": [
              "<tf.Tensor: shape=(2, 2), dtype=int32, numpy=\n",
              "array([[11, 12],\n",
              "       [15, 18]], dtype=int32)>"
            ]
          },
          "metadata": {},
          "execution_count": 34
        }
      ]
    },
    {
      "cell_type": "markdown",
      "metadata": {
        "id": "6ogOKRkNYz0q"
      },
      "source": [
        "## more mathematical operations"
      ]
    },
    {
      "cell_type": "code",
      "metadata": {
        "id": "T9qWodG8XF-J"
      },
      "source": [
        "a = tf.random.normal((2,2))\n",
        "b = tf.random.normal((2,2))\n",
        "\n",
        "\n",
        "c = a + b"
      ],
      "execution_count": 35,
      "outputs": []
    },
    {
      "cell_type": "code",
      "metadata": {
        "colab": {
          "base_uri": "https://localhost:8080/"
        },
        "id": "by1Ro4U8Y9TM",
        "outputId": "478e1b9a-0c28-460f-c721-40ac2a62f2ef"
      },
      "source": [
        "c"
      ],
      "execution_count": 36,
      "outputs": [
        {
          "output_type": "execute_result",
          "data": {
            "text/plain": [
              "<tf.Tensor: shape=(2, 2), dtype=float32, numpy=\n",
              "array([[-0.18850571,  1.99963   ],\n",
              "       [-2.656106  ,  1.8458854 ]], dtype=float32)>"
            ]
          },
          "metadata": {},
          "execution_count": 36
        }
      ]
    },
    {
      "cell_type": "code",
      "metadata": {
        "colab": {
          "base_uri": "https://localhost:8080/"
        },
        "id": "eCYHVLwIY9yF",
        "outputId": "d0d4e336-2a1a-43bf-9e3e-587a6a7600d5"
      },
      "source": [
        "tf.square(c)"
      ],
      "execution_count": 37,
      "outputs": [
        {
          "output_type": "execute_result",
          "data": {
            "text/plain": [
              "<tf.Tensor: shape=(2, 2), dtype=float32, numpy=\n",
              "array([[0.0355344, 3.9985201],\n",
              "       [7.054899 , 3.4072928]], dtype=float32)>"
            ]
          },
          "metadata": {},
          "execution_count": 37
        }
      ]
    },
    {
      "cell_type": "code",
      "metadata": {
        "colab": {
          "base_uri": "https://localhost:8080/"
        },
        "id": "9oV9SnvtZAil",
        "outputId": "ed3a1f33-e4ff-4fd4-96d6-aaa2fcb0c974"
      },
      "source": [
        "tf.exp(c)"
      ],
      "execution_count": 38,
      "outputs": [
        {
          "output_type": "execute_result",
          "data": {
            "text/plain": [
              "<tf.Tensor: shape=(2, 2), dtype=float32, numpy=\n",
              "array([[0.82819575, 7.3863225 ],\n",
              "       [0.07022113, 6.3337054 ]], dtype=float32)>"
            ]
          },
          "metadata": {},
          "execution_count": 38
        }
      ]
    },
    {
      "cell_type": "code",
      "metadata": {
        "colab": {
          "base_uri": "https://localhost:8080/"
        },
        "id": "Q2ZFTm3XZGtm",
        "outputId": "4d00d997-c1e9-4397-d34b-4f935a868b66"
      },
      "source": [
        "# Element wise multiplication -\n",
        "tensor"
      ],
      "execution_count": 39,
      "outputs": [
        {
          "output_type": "execute_result",
          "data": {
            "text/plain": [
              "<tf.Variable 'Variable:0' shape=(2, 2, 3) dtype=int32, numpy=\n",
              "array([[[10, 11, 12],\n",
              "        [13, 15, 18]],\n",
              "\n",
              "       [[10, 11, 12],\n",
              "        [13, 15, 18]]], dtype=int32)>"
            ]
          },
          "metadata": {},
          "execution_count": 39
        }
      ]
    },
    {
      "cell_type": "code",
      "metadata": {
        "colab": {
          "base_uri": "https://localhost:8080/"
        },
        "id": "K82rPKLwZRGS",
        "outputId": "7bfda783-e705-48f6-ab76-a9c031a92f57"
      },
      "source": [
        "tensor * tensor"
      ],
      "execution_count": 40,
      "outputs": [
        {
          "output_type": "execute_result",
          "data": {
            "text/plain": [
              "<tf.Tensor: shape=(2, 2, 3), dtype=int32, numpy=\n",
              "array([[[100, 121, 144],\n",
              "        [169, 225, 324]],\n",
              "\n",
              "       [[100, 121, 144],\n",
              "        [169, 225, 324]]], dtype=int32)>"
            ]
          },
          "metadata": {},
          "execution_count": 40
        }
      ]
    },
    {
      "cell_type": "markdown",
      "metadata": {
        "id": "VclzS1uRZbrE"
      },
      "source": [
        "## Boradcasting in Tensorflow -\n"
      ]
    },
    {
      "cell_type": "code",
      "metadata": {
        "colab": {
          "base_uri": "https://localhost:8080/"
        },
        "id": "BRo-MawyZUw_",
        "outputId": "2ba9eac1-9d5b-40f9-d96e-a6f25f457afc"
      },
      "source": [
        "scaler = 4\n",
        "scaler * tensor"
      ],
      "execution_count": 41,
      "outputs": [
        {
          "output_type": "execute_result",
          "data": {
            "text/plain": [
              "<tf.Tensor: shape=(2, 2, 3), dtype=int32, numpy=\n",
              "array([[[40, 44, 48],\n",
              "        [52, 60, 72]],\n",
              "\n",
              "       [[40, 44, 48],\n",
              "        [52, 60, 72]]], dtype=int32)>"
            ]
          },
          "metadata": {},
          "execution_count": 41
        }
      ]
    },
    {
      "cell_type": "code",
      "metadata": {
        "colab": {
          "base_uri": "https://localhost:8080/"
        },
        "id": "8VF_6ZsIZlax",
        "outputId": "0f37bc87-c150-498e-a2d0-2b2747709485"
      },
      "source": [
        "scaler + tensor"
      ],
      "execution_count": 42,
      "outputs": [
        {
          "output_type": "execute_result",
          "data": {
            "text/plain": [
              "<tf.Tensor: shape=(2, 2, 3), dtype=int32, numpy=\n",
              "array([[[14, 15, 16],\n",
              "        [17, 19, 22]],\n",
              "\n",
              "       [[14, 15, 16],\n",
              "        [17, 19, 22]]], dtype=int32)>"
            ]
          },
          "metadata": {},
          "execution_count": 42
        }
      ]
    },
    {
      "cell_type": "code",
      "metadata": {
        "colab": {
          "base_uri": "https://localhost:8080/"
        },
        "id": "pCP1gM0lZwX5",
        "outputId": "cc8e7bd9-295e-42e4-b8dc-06cf7d65320c"
      },
      "source": [
        "scaler - tensor\n"
      ],
      "execution_count": 43,
      "outputs": [
        {
          "output_type": "execute_result",
          "data": {
            "text/plain": [
              "<tf.Tensor: shape=(2, 2, 3), dtype=int32, numpy=\n",
              "array([[[ -6,  -7,  -8],\n",
              "        [ -9, -11, -14]],\n",
              "\n",
              "       [[ -6,  -7,  -8],\n",
              "        [ -9, -11, -14]]], dtype=int32)>"
            ]
          },
          "metadata": {},
          "execution_count": 43
        }
      ]
    },
    {
      "cell_type": "markdown",
      "metadata": {
        "id": "0I05A0fxZ-ye"
      },
      "source": [
        "# Matrix multiplication"
      ]
    },
    {
      "cell_type": "code",
      "metadata": {
        "id": "3hxebwrFZ2lG"
      },
      "source": [
        "mat_u = tf.constant([[6,7,7]])\n",
        "mat_v = tf.constant([[3,4,3]])"
      ],
      "execution_count": 44,
      "outputs": []
    },
    {
      "cell_type": "code",
      "metadata": {
        "colab": {
          "base_uri": "https://localhost:8080/"
        },
        "id": "iPAVKrsParx-",
        "outputId": "8c67f7e4-0633-4d73-e4cd-d1a3eeef6d4c"
      },
      "source": [
        "mat_u.shape"
      ],
      "execution_count": 45,
      "outputs": [
        {
          "output_type": "execute_result",
          "data": {
            "text/plain": [
              "TensorShape([1, 3])"
            ]
          },
          "metadata": {},
          "execution_count": 45
        }
      ]
    },
    {
      "cell_type": "code",
      "metadata": {
        "colab": {
          "base_uri": "https://localhost:8080/"
        },
        "id": "EgP3TdLGau51",
        "outputId": "b5bc0b1e-1c12-49e9-e820-70a07df0c274"
      },
      "source": [
        "mat_v.shape"
      ],
      "execution_count": 46,
      "outputs": [
        {
          "output_type": "execute_result",
          "data": {
            "text/plain": [
              "TensorShape([1, 3])"
            ]
          },
          "metadata": {},
          "execution_count": 46
        }
      ]
    },
    {
      "cell_type": "code",
      "metadata": {
        "colab": {
          "base_uri": "https://localhost:8080/"
        },
        "id": "PR7m6J_TazXr",
        "outputId": "a272c304-13f0-4d63-a2c3-6f4ee6ce92a2"
      },
      "source": [
        "tf.transpose(mat_v).shape"
      ],
      "execution_count": 47,
      "outputs": [
        {
          "output_type": "execute_result",
          "data": {
            "text/plain": [
              "TensorShape([3, 1])"
            ]
          },
          "metadata": {},
          "execution_count": 47
        }
      ]
    },
    {
      "cell_type": "code",
      "metadata": {
        "colab": {
          "base_uri": "https://localhost:8080/"
        },
        "id": "TI-xyyUOa51a",
        "outputId": "455f9073-0018-4fcf-aa97-0624e9fa123f"
      },
      "source": [
        "mat_u.numpy()"
      ],
      "execution_count": 48,
      "outputs": [
        {
          "output_type": "execute_result",
          "data": {
            "text/plain": [
              "array([[6, 7, 7]], dtype=int32)"
            ]
          },
          "metadata": {},
          "execution_count": 48
        }
      ]
    },
    {
      "cell_type": "code",
      "metadata": {
        "colab": {
          "base_uri": "https://localhost:8080/"
        },
        "id": "pWMjypbrbB03",
        "outputId": "2c6c66d9-f7ca-481f-e5ac-b5d6dcd5a4a6"
      },
      "source": [
        "tf.transpose(mat_v).numpy()"
      ],
      "execution_count": 49,
      "outputs": [
        {
          "output_type": "execute_result",
          "data": {
            "text/plain": [
              "array([[3],\n",
              "       [4],\n",
              "       [3]], dtype=int32)"
            ]
          },
          "metadata": {},
          "execution_count": 49
        }
      ]
    },
    {
      "cell_type": "code",
      "metadata": {
        "colab": {
          "base_uri": "https://localhost:8080/"
        },
        "id": "uRIIIUDVaZFf",
        "outputId": "f0a14050-30c9-435f-c6b0-c46fe3c415bc"
      },
      "source": [
        "tf.matmul(mat_u, tf.transpose(mat_v))"
      ],
      "execution_count": 50,
      "outputs": [
        {
          "output_type": "execute_result",
          "data": {
            "text/plain": [
              "<tf.Tensor: shape=(1, 1), dtype=int32, numpy=array([[67]], dtype=int32)>"
            ]
          },
          "metadata": {},
          "execution_count": 50
        }
      ]
    },
    {
      "cell_type": "code",
      "metadata": {
        "colab": {
          "base_uri": "https://localhost:8080/"
        },
        "id": "FGf4WnLabEv-",
        "outputId": "a6b25632-ef97-42b6-bea0-dfbb44da7d2e"
      },
      "source": [
        "tf.matmul(tf.transpose(mat_v), mat_u)"
      ],
      "execution_count": 51,
      "outputs": [
        {
          "output_type": "execute_result",
          "data": {
            "text/plain": [
              "<tf.Tensor: shape=(3, 3), dtype=int32, numpy=\n",
              "array([[18, 21, 21],\n",
              "       [24, 28, 28],\n",
              "       [18, 21, 21]], dtype=int32)>"
            ]
          },
          "metadata": {},
          "execution_count": 51
        }
      ]
    },
    {
      "cell_type": "code",
      "metadata": {
        "colab": {
          "base_uri": "https://localhost:8080/"
        },
        "id": "r1jPwTrKcPXW",
        "outputId": "8636d96c-e6d7-4e42-c651-56ef65864a6f"
      },
      "source": [
        "tf.transpose(mat_v) @ mat_u ### <<< Matrix mul"
      ],
      "execution_count": 52,
      "outputs": [
        {
          "output_type": "execute_result",
          "data": {
            "text/plain": [
              "<tf.Tensor: shape=(3, 3), dtype=int32, numpy=\n",
              "array([[18, 21, 21],\n",
              "       [24, 28, 28],\n",
              "       [18, 21, 21]], dtype=int32)>"
            ]
          },
          "metadata": {},
          "execution_count": 52
        }
      ]
    },
    {
      "cell_type": "code",
      "metadata": {
        "colab": {
          "base_uri": "https://localhost:8080/"
        },
        "id": "e3GgqxqlcYD7",
        "outputId": "fef888f5-fb71-4aa3-8c42-df192514fae2"
      },
      "source": [
        "mat_u @ tf.transpose(mat_v) ### <<< Matrix mul\n"
      ],
      "execution_count": 53,
      "outputs": [
        {
          "output_type": "execute_result",
          "data": {
            "text/plain": [
              "<tf.Tensor: shape=(1, 1), dtype=int32, numpy=array([[67]], dtype=int32)>"
            ]
          },
          "metadata": {},
          "execution_count": 53
        }
      ]
    },
    {
      "cell_type": "code",
      "metadata": {
        "colab": {
          "base_uri": "https://localhost:8080/"
        },
        "id": "-mIiCWb7aPn2",
        "outputId": "6379ca8b-1989-4a95-da46-5e2510179400"
      },
      "source": [
        "mat_u * mat_v # element wise multiplication"
      ],
      "execution_count": 54,
      "outputs": [
        {
          "output_type": "execute_result",
          "data": {
            "text/plain": [
              "<tf.Tensor: shape=(1, 3), dtype=int32, numpy=array([[18, 28, 21]], dtype=int32)>"
            ]
          },
          "metadata": {},
          "execution_count": 54
        }
      ]
    },
    {
      "cell_type": "markdown",
      "metadata": {
        "id": "Y8L7A0cBcix1"
      },
      "source": [
        "## Casting method in tensorflow to change the datatype"
      ]
    },
    {
      "cell_type": "code",
      "metadata": {
        "colab": {
          "base_uri": "https://localhost:8080/"
        },
        "id": "6BfW8hHOciHF",
        "outputId": "79bde0c0-92cd-4a39-c7fe-caecf54ea554"
      },
      "source": [
        "tf.cast(mat_u, dtype=tf.int16) ### < can be utilized in quantization"
      ],
      "execution_count": 55,
      "outputs": [
        {
          "output_type": "execute_result",
          "data": {
            "text/plain": [
              "<tf.Tensor: shape=(1, 3), dtype=int16, numpy=array([[6, 7, 7]], dtype=int16)>"
            ]
          },
          "metadata": {},
          "execution_count": 55
        }
      ]
    },
    {
      "cell_type": "code",
      "metadata": {
        "colab": {
          "base_uri": "https://localhost:8080/"
        },
        "id": "XwdMAHu4aUlx",
        "outputId": "89acb7d3-e599-44d2-ad78-44e7da6f72b5"
      },
      "source": [
        "tf.cast(tf.constant(444.1324), dtype=tf.int32)"
      ],
      "execution_count": 56,
      "outputs": [
        {
          "output_type": "execute_result",
          "data": {
            "text/plain": [
              "<tf.Tensor: shape=(), dtype=int32, numpy=444>"
            ]
          },
          "metadata": {},
          "execution_count": 56
        }
      ]
    },
    {
      "cell_type": "markdown",
      "metadata": {
        "id": "HmciIV0UfnUL"
      },
      "source": [
        "## Ragged tensors\n",
        "nested variable length arrays"
      ]
    },
    {
      "cell_type": "code",
      "metadata": {
        "id": "jmwrO7k5fmz1"
      },
      "source": [
        "ragged = tf.ragged.constant([[1,2,3,4,5], [], [1,2,3]])"
      ],
      "execution_count": 57,
      "outputs": []
    },
    {
      "cell_type": "code",
      "metadata": {
        "id": "wB0U78ulgd-h"
      },
      "source": [
        "# ragged = tf.constant([[1,2,3,4,5], [], [1,2,3]])\n"
      ],
      "execution_count": 58,
      "outputs": []
    },
    {
      "cell_type": "code",
      "metadata": {
        "colab": {
          "base_uri": "https://localhost:8080/"
        },
        "id": "PCYON0qxfh64",
        "outputId": "648f7196-fdd6-4830-dab4-eac416b878ae"
      },
      "source": [
        "ragged.shape"
      ],
      "execution_count": 59,
      "outputs": [
        {
          "output_type": "execute_result",
          "data": {
            "text/plain": [
              "TensorShape([3, None])"
            ]
          },
          "metadata": {},
          "execution_count": 59
        }
      ]
    },
    {
      "cell_type": "code",
      "metadata": {
        "colab": {
          "base_uri": "https://localhost:8080/"
        },
        "id": "dLVKk3MmgoEQ",
        "outputId": "58a6fab4-a10d-4957-aaf8-3ccf53b523ad"
      },
      "source": [
        "ragged[0, :].shape"
      ],
      "execution_count": 60,
      "outputs": [
        {
          "output_type": "execute_result",
          "data": {
            "text/plain": [
              "TensorShape([5])"
            ]
          },
          "metadata": {},
          "execution_count": 60
        }
      ]
    },
    {
      "cell_type": "code",
      "metadata": {
        "colab": {
          "base_uri": "https://localhost:8080/"
        },
        "id": "t3dnyuy_gvZA",
        "outputId": "80e4d904-6461-433c-bc5c-1d8234d00b44"
      },
      "source": [
        "ragged[1, :].shape\n"
      ],
      "execution_count": 61,
      "outputs": [
        {
          "output_type": "execute_result",
          "data": {
            "text/plain": [
              "TensorShape([0])"
            ]
          },
          "metadata": {},
          "execution_count": 61
        }
      ]
    },
    {
      "cell_type": "code",
      "metadata": {
        "colab": {
          "base_uri": "https://localhost:8080/"
        },
        "id": "x3s0J4JAg4gy",
        "outputId": "cfa1fac4-ca4e-45e1-9771-8ef7b0842c3f"
      },
      "source": [
        "ragged[2, :].shape\n"
      ],
      "execution_count": 62,
      "outputs": [
        {
          "output_type": "execute_result",
          "data": {
            "text/plain": [
              "TensorShape([3])"
            ]
          },
          "metadata": {},
          "execution_count": 62
        }
      ]
    },
    {
      "cell_type": "markdown",
      "metadata": {
        "id": "1NDkffkVhMSx"
      },
      "source": [
        "## Squared difference of tensors"
      ]
    },
    {
      "cell_type": "code",
      "metadata": {
        "colab": {
          "base_uri": "https://localhost:8080/"
        },
        "id": "qa8U0PGChLIS",
        "outputId": "06b2e17b-ed82-4221-9c3b-a5eaf8bd6e1e"
      },
      "source": [
        "varx = [1,2,3,4,5,6]\n",
        "vary = 2\n",
        "\n",
        "tf.math.squared_difference(varx, vary)"
      ],
      "execution_count": 63,
      "outputs": [
        {
          "output_type": "execute_result",
          "data": {
            "text/plain": [
              "<tf.Tensor: shape=(6,), dtype=int32, numpy=array([ 1,  0,  1,  4,  9, 16], dtype=int32)>"
            ]
          },
          "metadata": {},
          "execution_count": 63
        }
      ]
    },
    {
      "cell_type": "code",
      "metadata": {
        "colab": {
          "base_uri": "https://localhost:8080/"
        },
        "id": "Oe4LK7Bag7vT",
        "outputId": "e6328164-5f4a-4070-8f92-dd85cbdfd0af"
      },
      "source": [
        "pred = [1,2,3,4,5,6]\n",
        "actual = [1,1,1,1,1,1]\n",
        "\n",
        "tf.math.squared_difference(pred, actual)"
      ],
      "execution_count": 64,
      "outputs": [
        {
          "output_type": "execute_result",
          "data": {
            "text/plain": [
              "<tf.Tensor: shape=(6,), dtype=int32, numpy=array([ 0,  1,  4,  9, 16, 25], dtype=int32)>"
            ]
          },
          "metadata": {},
          "execution_count": 64
        }
      ]
    },
    {
      "cell_type": "markdown",
      "metadata": {
        "id": "MVi-JFFch5OS"
      },
      "source": [
        "## calculate mean"
      ]
    },
    {
      "cell_type": "code",
      "metadata": {
        "colab": {
          "base_uri": "https://localhost:8080/"
        },
        "id": "-Hv1npO2hzVS",
        "outputId": "cea648f6-b19b-40df-a166-efb108afba77"
      },
      "source": [
        "num = tf.constant([[1,2],[3,4]], dtype=tf.float32)\n",
        "num"
      ],
      "execution_count": 65,
      "outputs": [
        {
          "output_type": "execute_result",
          "data": {
            "text/plain": [
              "<tf.Tensor: shape=(2, 2), dtype=float32, numpy=\n",
              "array([[1., 2.],\n",
              "       [3., 4.]], dtype=float32)>"
            ]
          },
          "metadata": {},
          "execution_count": 65
        }
      ]
    },
    {
      "cell_type": "code",
      "metadata": {
        "colab": {
          "base_uri": "https://localhost:8080/"
        },
        "id": "1_ke7g9HiDOp",
        "outputId": "a3d4d694-8054-4fc8-d81a-b1137efee384"
      },
      "source": [
        "tf.reduce_mean(num)"
      ],
      "execution_count": 66,
      "outputs": [
        {
          "output_type": "execute_result",
          "data": {
            "text/plain": [
              "<tf.Tensor: shape=(), dtype=float32, numpy=2.5>"
            ]
          },
          "metadata": {},
          "execution_count": 66
        }
      ]
    },
    {
      "cell_type": "code",
      "metadata": {
        "colab": {
          "base_uri": "https://localhost:8080/"
        },
        "id": "GHGP4WY6iNFc",
        "outputId": "1765089f-c85a-408f-d528-f3b4ccf70f6c"
      },
      "source": [
        "tf.reduce_mean(num, axis=0) # row wise mean"
      ],
      "execution_count": 67,
      "outputs": [
        {
          "output_type": "execute_result",
          "data": {
            "text/plain": [
              "<tf.Tensor: shape=(2,), dtype=float32, numpy=array([2., 3.], dtype=float32)>"
            ]
          },
          "metadata": {},
          "execution_count": 67
        }
      ]
    },
    {
      "cell_type": "code",
      "metadata": {
        "colab": {
          "base_uri": "https://localhost:8080/"
        },
        "id": "QK_-aZm7iT26",
        "outputId": "8e2ab01b-7073-414b-c5b9-e48de2b2a6a9"
      },
      "source": [
        "tf.reduce_mean(num, axis=1) # col wise mean"
      ],
      "execution_count": 68,
      "outputs": [
        {
          "output_type": "execute_result",
          "data": {
            "text/plain": [
              "<tf.Tensor: shape=(2,), dtype=float32, numpy=array([1.5, 3.5], dtype=float32)>"
            ]
          },
          "metadata": {},
          "execution_count": 68
        }
      ]
    },
    {
      "cell_type": "code",
      "metadata": {
        "colab": {
          "base_uri": "https://localhost:8080/"
        },
        "id": "8xH-kHRZigSz",
        "outputId": "e85a8992-a14e-4352-ee92-c06b6d8ea628"
      },
      "source": [
        "tf.reduce_mean(num, axis=1, keepdims=True) # col wise mean"
      ],
      "execution_count": 69,
      "outputs": [
        {
          "output_type": "execute_result",
          "data": {
            "text/plain": [
              "<tf.Tensor: shape=(2, 1), dtype=float32, numpy=\n",
              "array([[1.5],\n",
              "       [3.5]], dtype=float32)>"
            ]
          },
          "metadata": {},
          "execution_count": 69
        }
      ]
    },
    {
      "cell_type": "code",
      "metadata": {
        "id": "QmL4ko-jjGp0"
      },
      "source": [],
      "execution_count": 69,
      "outputs": []
    }
  ]
}
