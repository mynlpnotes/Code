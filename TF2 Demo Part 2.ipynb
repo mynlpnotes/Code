{
  "nbformat": 4,
  "nbformat_minor": 0,
  "metadata": {
    "colab": {
      "name": "demo_tf_2.x_part_2.ipynb",
      "provenance": []
    },
    "kernelspec": {
      "name": "python3",
      "display_name": "Python 3"
    },
    "language_info": {
      "name": "python"
    },
    "accelerator": "GPU"
  },
  "cells": [
    {
      "cell_type": "code",
      "metadata": {
        "id": "AROq9toaNn7-"
      },
      "source": [
        "import tensorflow as tf"
      ],
      "execution_count": 1,
      "outputs": []
    },
    {
      "cell_type": "code",
      "metadata": {
        "colab": {
          "base_uri": "https://localhost:8080/"
        },
        "id": "bdYh1GEySnpK",
        "outputId": "0bc57457-d425-4d12-feaa-1a548a0f2f35"
      },
      "source": [
        "SEED = 12\n",
        "\n",
        "tf.random.set_seed(SEED)\n",
        "ran_num_1 = tf.random.uniform(shape=(2,2), minval=0, maxval=10, dtype=tf.int32)\n",
        "ran_num_2 = tf.random.uniform(shape=(2,2), minval=0, maxval=10, dtype=tf.int32)\n",
        "\n",
        "print(ran_num_1)\n",
        "print(ran_num_2)"
      ],
      "execution_count": 2,
      "outputs": [
        {
          "output_type": "stream",
          "name": "stdout",
          "text": [
            "tf.Tensor(\n",
            "[[2 2]\n",
            " [6 2]], shape=(2, 2), dtype=int32)\n",
            "tf.Tensor(\n",
            "[[8 2]\n",
            " [2 2]], shape=(2, 2), dtype=int32)\n"
          ]
        }
      ]
    },
    {
      "cell_type": "code",
      "metadata": {
        "colab": {
          "base_uri": "https://localhost:8080/"
        },
        "id": "ZNIH5ayTTIYY",
        "outputId": "4bde3ca3-26a7-49a1-8cc0-2486edae5c3b"
      },
      "source": [
        "SEED = 12\n",
        "\n",
        "tf.random.set_seed(SEED)\n",
        "ran_num_1 = tf.random.uniform(shape=(2,2), minval=0, maxval=10, dtype=tf.int32)\n",
        "ran_num_2 = tf.random.uniform(shape=(2,2), minval=0, maxval=10, dtype=tf.int32)\n",
        "\n",
        "print(ran_num_1)\n",
        "print(ran_num_2)"
      ],
      "execution_count": 3,
      "outputs": [
        {
          "output_type": "stream",
          "name": "stdout",
          "text": [
            "tf.Tensor(\n",
            "[[2 2]\n",
            " [6 2]], shape=(2, 2), dtype=int32)\n",
            "tf.Tensor(\n",
            "[[8 2]\n",
            " [2 2]], shape=(2, 2), dtype=int32)\n"
          ]
        }
      ]
    },
    {
      "cell_type": "code",
      "metadata": {
        "colab": {
          "base_uri": "https://localhost:8080/"
        },
        "id": "QyC2-cl6TjSf",
        "outputId": "010ffdec-c8c6-4515-c556-6871b98e3873"
      },
      "source": [
        "# SEED = 12\n",
        "\n",
        "# tf.random.set_seed(SEED)\n",
        "ran_num_1 = tf.random.uniform(shape=(2,2), minval=0, maxval=10, dtype=tf.int32)\n",
        "ran_num_2 = tf.random.uniform(shape=(2,2), minval=0, maxval=10, dtype=tf.int32)\n",
        "\n",
        "print(ran_num_1)\n",
        "print(ran_num_2)"
      ],
      "execution_count": 4,
      "outputs": [
        {
          "output_type": "stream",
          "name": "stdout",
          "text": [
            "tf.Tensor(\n",
            "[[8 4]\n",
            " [5 2]], shape=(2, 2), dtype=int32)\n",
            "tf.Tensor(\n",
            "[[3 0]\n",
            " [7 0]], shape=(2, 2), dtype=int32)\n"
          ]
        }
      ]
    },
    {
      "cell_type": "code",
      "metadata": {
        "colab": {
          "base_uri": "https://localhost:8080/"
        },
        "id": "9ELOT0nsTm7H",
        "outputId": "30da1252-5eae-406f-d54c-edb761819b01"
      },
      "source": [
        "SEED = 12\n",
        "\n",
        "tf.random.set_seed(SEED)\n",
        "ran_num_1 = tf.random.uniform(shape=(2,2), minval=0, maxval=10, dtype=tf.int32)\n",
        "ran_num_2 = tf.random.uniform(shape=(2,2), minval=0, maxval=10, dtype=tf.int32)\n",
        "\n",
        "print(ran_num_1)\n",
        "print(ran_num_2)"
      ],
      "execution_count": 5,
      "outputs": [
        {
          "output_type": "stream",
          "name": "stdout",
          "text": [
            "tf.Tensor(\n",
            "[[2 2]\n",
            " [6 2]], shape=(2, 2), dtype=int32)\n",
            "tf.Tensor(\n",
            "[[8 2]\n",
            " [2 2]], shape=(2, 2), dtype=int32)\n"
          ]
        }
      ]
    },
    {
      "cell_type": "code",
      "metadata": {
        "colab": {
          "base_uri": "https://localhost:8080/"
        },
        "id": "ukj7Ny8wV5ZY",
        "outputId": "a692cca9-d156-49ef-e4a5-88e8b6abcc54"
      },
      "source": [
        "dice1 = tf.Variable(tf.random.uniform([10, 1], minval=1, maxval=7, dtype=tf.int32))\n",
        "dice2 = tf.Variable(tf.random.uniform([10, 1], minval=1, maxval=7, dtype=tf.int32))\n",
        "\n",
        "dice_sum = dice1 + dice2\n",
        "print(dice_sum)"
      ],
      "execution_count": 6,
      "outputs": [
        {
          "output_type": "stream",
          "name": "stdout",
          "text": [
            "tf.Tensor(\n",
            "[[ 9]\n",
            " [ 6]\n",
            " [10]\n",
            " [ 2]\n",
            " [ 7]\n",
            " [ 8]\n",
            " [ 9]\n",
            " [ 4]\n",
            " [ 3]\n",
            " [ 6]], shape=(10, 1), dtype=int32)\n"
          ]
        }
      ]
    },
    {
      "cell_type": "code",
      "metadata": {
        "colab": {
          "base_uri": "https://localhost:8080/"
        },
        "id": "XBjcHif9WY9f",
        "outputId": "261bd069-191b-4dde-8530-8dfc98927749"
      },
      "source": [
        "final_matrix = tf.concat(values=[dice1, dice2, dice_sum], axis=1)\n",
        "print(final_matrix)"
      ],
      "execution_count": 7,
      "outputs": [
        {
          "output_type": "stream",
          "name": "stdout",
          "text": [
            "tf.Tensor(\n",
            "[[ 3  6  9]\n",
            " [ 3  3  6]\n",
            " [ 4  6 10]\n",
            " [ 1  1  2]\n",
            " [ 1  6  7]\n",
            " [ 4  4  8]\n",
            " [ 3  6  9]\n",
            " [ 2  2  4]\n",
            " [ 2  1  3]\n",
            " [ 4  2  6]], shape=(10, 3), dtype=int32)\n"
          ]
        }
      ]
    },
    {
      "cell_type": "code",
      "metadata": {
        "colab": {
          "base_uri": "https://localhost:8080/"
        },
        "id": "6j3ufMYvW0mw",
        "outputId": "0958475b-9fc8-4c85-d8e9-fa828e8f9d0d"
      },
      "source": [
        "idx = tf.argmax(input=dice_sum)\n",
        "print(f\"max value: {dice_sum.numpy()[idx][0]} present at index: {idx[0]}\")"
      ],
      "execution_count": 8,
      "outputs": [
        {
          "output_type": "stream",
          "name": "stdout",
          "text": [
            "max value: [10] present at index: 2\n"
          ]
        }
      ]
    },
    {
      "cell_type": "code",
      "metadata": {
        "colab": {
          "base_uri": "https://localhost:8080/"
        },
        "id": "PLMOE3diYnWA",
        "outputId": "323bddab-f6f6-47b8-a27c-87234b37dce5"
      },
      "source": [
        "idx = tf.argmin(input=dice_sum)\n",
        "print(f\"min value: {dice_sum.numpy()[idx][0]} present at index: {idx[0]}\")"
      ],
      "execution_count": 9,
      "outputs": [
        {
          "output_type": "stream",
          "name": "stdout",
          "text": [
            "min value: [2] present at index: 3\n"
          ]
        }
      ]
    },
    {
      "cell_type": "code",
      "metadata": {
        "colab": {
          "base_uri": "https://localhost:8080/"
        },
        "id": "d-SKH1inXaV4",
        "outputId": "7057e91c-7e45-44e3-d53f-e8edc8d5e2e2"
      },
      "source": [
        "dice_sum.numpy()"
      ],
      "execution_count": 10,
      "outputs": [
        {
          "output_type": "execute_result",
          "data": {
            "text/plain": [
              "array([[ 9],\n",
              "       [ 6],\n",
              "       [10],\n",
              "       [ 2],\n",
              "       [ 7],\n",
              "       [ 8],\n",
              "       [ 9],\n",
              "       [ 4],\n",
              "       [ 3],\n",
              "       [ 6]], dtype=int32)"
            ]
          },
          "metadata": {},
          "execution_count": 10
        }
      ]
    },
    {
      "cell_type": "code",
      "metadata": {
        "colab": {
          "base_uri": "https://localhost:8080/"
        },
        "id": "JVoV-zaeYPv4",
        "outputId": "cc7ea79b-a6f6-48ad-c342-f3cb180a75c9"
      },
      "source": [
        "dice_sum.numpy()[4][0]"
      ],
      "execution_count": 11,
      "outputs": [
        {
          "output_type": "execute_result",
          "data": {
            "text/plain": [
              "7"
            ]
          },
          "metadata": {},
          "execution_count": 11
        }
      ]
    },
    {
      "cell_type": "markdown",
      "metadata": {
        "id": "5uO-uJG0Y7HQ"
      },
      "source": [
        "## Checkpointing to restrore the matrix vals"
      ]
    },
    {
      "cell_type": "code",
      "metadata": {
        "colab": {
          "base_uri": "https://localhost:8080/"
        },
        "id": "oWJ8Zg7KY6yW",
        "outputId": "560b2bf3-a7e1-4215-941e-3449b892520a"
      },
      "source": [
        "var1 = tf.Variable(5*tf.ones((5,5)))\n",
        "var1"
      ],
      "execution_count": 12,
      "outputs": [
        {
          "output_type": "execute_result",
          "data": {
            "text/plain": [
              "<tf.Variable 'Variable:0' shape=(5, 5) dtype=float32, numpy=\n",
              "array([[5., 5., 5., 5., 5.],\n",
              "       [5., 5., 5., 5., 5.],\n",
              "       [5., 5., 5., 5., 5.],\n",
              "       [5., 5., 5., 5., 5.],\n",
              "       [5., 5., 5., 5., 5.]], dtype=float32)>"
            ]
          },
          "metadata": {},
          "execution_count": 12
        }
      ]
    },
    {
      "cell_type": "code",
      "metadata": {
        "id": "UQ67HYKRYUQg"
      },
      "source": [
        "ckpt = tf.train.Checkpoint(var=var1)\n",
        "savepath = ckpt.save(\"./vars.ckpt\")"
      ],
      "execution_count": 13,
      "outputs": []
    },
    {
      "cell_type": "code",
      "metadata": {
        "colab": {
          "base_uri": "https://localhost:8080/"
        },
        "id": "zLS-q7_QZYKj",
        "outputId": "b3f47dc3-3611-4dc7-c0a9-d3731633a9fe"
      },
      "source": [
        "var1.assign(tf.zeros((5,5)))"
      ],
      "execution_count": 14,
      "outputs": [
        {
          "output_type": "execute_result",
          "data": {
            "text/plain": [
              "<tf.Variable 'UnreadVariable' shape=(5, 5) dtype=float32, numpy=\n",
              "array([[0., 0., 0., 0., 0.],\n",
              "       [0., 0., 0., 0., 0.],\n",
              "       [0., 0., 0., 0., 0.],\n",
              "       [0., 0., 0., 0., 0.],\n",
              "       [0., 0., 0., 0., 0.]], dtype=float32)>"
            ]
          },
          "metadata": {},
          "execution_count": 14
        }
      ]
    },
    {
      "cell_type": "code",
      "metadata": {
        "colab": {
          "base_uri": "https://localhost:8080/"
        },
        "id": "DFfzvUWGZxIw",
        "outputId": "9769d038-c3d2-400e-d6a8-34c8261c5f55"
      },
      "source": [
        "var1"
      ],
      "execution_count": 15,
      "outputs": [
        {
          "output_type": "execute_result",
          "data": {
            "text/plain": [
              "<tf.Variable 'Variable:0' shape=(5, 5) dtype=float32, numpy=\n",
              "array([[0., 0., 0., 0., 0.],\n",
              "       [0., 0., 0., 0., 0.],\n",
              "       [0., 0., 0., 0., 0.],\n",
              "       [0., 0., 0., 0., 0.],\n",
              "       [0., 0., 0., 0., 0.]], dtype=float32)>"
            ]
          },
          "metadata": {},
          "execution_count": 15
        }
      ]
    },
    {
      "cell_type": "code",
      "metadata": {
        "colab": {
          "base_uri": "https://localhost:8080/"
        },
        "id": "Geb7cKCXZ9H5",
        "outputId": "001e8ef3-835f-4fd2-a616-c191e697927e"
      },
      "source": [
        "ckpt.restore(savepath)"
      ],
      "execution_count": 16,
      "outputs": [
        {
          "output_type": "execute_result",
          "data": {
            "text/plain": [
              "<tensorflow.python.checkpoint.checkpoint.CheckpointLoadStatus at 0x78eee8c35660>"
            ]
          },
          "metadata": {},
          "execution_count": 16
        }
      ]
    },
    {
      "cell_type": "code",
      "metadata": {
        "colab": {
          "base_uri": "https://localhost:8080/"
        },
        "id": "6L0OTb8xaDEB",
        "outputId": "1ecf907b-e62b-4d6a-9bca-7a6c9f5d4cef"
      },
      "source": [
        "var1"
      ],
      "execution_count": 17,
      "outputs": [
        {
          "output_type": "execute_result",
          "data": {
            "text/plain": [
              "<tf.Variable 'Variable:0' shape=(5, 5) dtype=float32, numpy=\n",
              "array([[5., 5., 5., 5., 5.],\n",
              "       [5., 5., 5., 5., 5.],\n",
              "       [5., 5., 5., 5., 5.],\n",
              "       [5., 5., 5., 5., 5.],\n",
              "       [5., 5., 5., 5., 5.]], dtype=float32)>"
            ]
          },
          "metadata": {},
          "execution_count": 17
        }
      ]
    },
    {
      "cell_type": "markdown",
      "metadata": {
        "id": "_nVX71C-akVN"
      },
      "source": [
        "## using tf.function <<< IMPORTANT\n"
      ]
    },
    {
      "cell_type": "markdown",
      "metadata": {
        "id": "z7vx-307b6-i"
      },
      "source": [
        "$z = x^3 * 6 + y^3$"
      ]
    },
    {
      "cell_type": "code",
      "metadata": {
        "id": "gzFH8wGIaEjq"
      },
      "source": [
        "def f1(x, y):\n",
        "  return tf.reduce_mean(input_tensor=tf.multiply(x ** 3, 6) + y ** 3)"
      ],
      "execution_count": 18,
      "outputs": []
    },
    {
      "cell_type": "code",
      "metadata": {
        "id": "9ponsPv_cNOh"
      },
      "source": [
        "func = tf.function(f1)"
      ],
      "execution_count": 19,
      "outputs": []
    },
    {
      "cell_type": "code",
      "metadata": {
        "id": "05sA5-CBcTWC"
      },
      "source": [
        "x = tf.constant([3., -4.])\n",
        "y = tf.constant([1., 4.])"
      ],
      "execution_count": 20,
      "outputs": []
    },
    {
      "cell_type": "code",
      "metadata": {
        "colab": {
          "base_uri": "https://localhost:8080/"
        },
        "id": "vDYmZ3B1cbhi",
        "outputId": "063a281a-9272-4efc-f27e-ce508b9d2aca"
      },
      "source": [
        "f1(x,y).numpy() ## just using simple python function"
      ],
      "execution_count": 21,
      "outputs": [
        {
          "output_type": "execute_result",
          "data": {
            "text/plain": [
              "-78.5"
            ]
          },
          "metadata": {},
          "execution_count": 21
        }
      ]
    },
    {
      "cell_type": "code",
      "metadata": {
        "colab": {
          "base_uri": "https://localhost:8080/"
        },
        "id": "pM18Hxtnce7F",
        "outputId": "dc8c6ae7-ca76-4359-a7e3-21b08155ea70"
      },
      "source": [
        "func(x, y).numpy()"
      ],
      "execution_count": 22,
      "outputs": [
        {
          "output_type": "execute_result",
          "data": {
            "text/plain": [
              "-78.5"
            ]
          },
          "metadata": {},
          "execution_count": 22
        }
      ]
    },
    {
      "cell_type": "code",
      "metadata": {
        "id": "4tJphaW1cwt0"
      },
      "source": [
        "@tf.function ## << decorator\n",
        "def f2(x, y):\n",
        "  return tf.reduce_mean(input_tensor=tf.multiply(x ** 3, 6) + y ** 3)"
      ],
      "execution_count": 23,
      "outputs": []
    },
    {
      "cell_type": "code",
      "metadata": {
        "colab": {
          "base_uri": "https://localhost:8080/"
        },
        "id": "0-NJMOgEc75i",
        "outputId": "27461f07-3af4-42bc-bbc8-852fd1fc5b6d"
      },
      "source": [
        "f2(x, y).numpy()"
      ],
      "execution_count": 24,
      "outputs": [
        {
          "output_type": "execute_result",
          "data": {
            "text/plain": [
              "-78.5"
            ]
          },
          "metadata": {},
          "execution_count": 24
        }
      ]
    },
    {
      "cell_type": "markdown",
      "metadata": {
        "id": "HTY6A52AdMiW"
      },
      "source": [
        "### Example of decorator"
      ]
    },
    {
      "cell_type": "code",
      "metadata": {
        "id": "kKD6jUmFdBst"
      },
      "source": [
        "def decorate_it(input_func):\n",
        "  def decorated_func():\n",
        "    print(\"#\"*10)\n",
        "    input_func()\n",
        "    print(\"#\"*10)\n",
        "\n",
        "  return decorated_func\n",
        "\n",
        "def print_me():\n",
        "  print(\"welcome to ineuron\")"
      ],
      "execution_count": 25,
      "outputs": []
    },
    {
      "cell_type": "code",
      "metadata": {
        "colab": {
          "base_uri": "https://localhost:8080/"
        },
        "id": "_0_HCaH7dlvw",
        "outputId": "664c4237-8963-4613-e34e-ba0bfbe60ba9"
      },
      "source": [
        "print_me()"
      ],
      "execution_count": 26,
      "outputs": [
        {
          "output_type": "stream",
          "name": "stdout",
          "text": [
            "welcome to ineuron\n"
          ]
        }
      ]
    },
    {
      "cell_type": "code",
      "metadata": {
        "colab": {
          "base_uri": "https://localhost:8080/",
          "height": 103
        },
        "id": "90gy2zO7dnwb",
        "outputId": "a941c278-6597-4242-8156-db7b14fc49f7"
      },
      "source": [
        "decorated = decorate_it(print_me)\n",
        "decorated"
      ],
      "execution_count": 27,
      "outputs": [
        {
          "output_type": "execute_result",
          "data": {
            "text/plain": [
              "<function __main__.decorate_it.<locals>.decorated_func()>"
            ],
            "text/html": [
              "<div style=\"max-width:800px; border: 1px solid var(--colab-border-color);\"><style>\n",
              "      pre.function-repr-contents {\n",
              "        overflow-x: auto;\n",
              "        padding: 8px 12px;\n",
              "        max-height: 500px;\n",
              "      }\n",
              "\n",
              "      pre.function-repr-contents.function-repr-contents-collapsed {\n",
              "        cursor: pointer;\n",
              "        max-height: 100px;\n",
              "      }\n",
              "    </style>\n",
              "    <pre style=\"white-space: initial; background:\n",
              "         var(--colab-secondary-surface-color); padding: 8px 12px;\n",
              "         border-bottom: 1px solid var(--colab-border-color);\"><b>decorate_it.&lt;locals&gt;.decorated_func</b><br/>def decorated_func()</pre><pre class=\"function-repr-contents function-repr-contents-collapsed\" style=\"\"><a class=\"filepath\" style=\"display:none\" href=\"#\">/content/&lt;ipython-input-25-4674742bf925&gt;</a>&lt;no docstring&gt;</pre></div>"
            ]
          },
          "metadata": {},
          "execution_count": 27
        }
      ]
    },
    {
      "cell_type": "code",
      "metadata": {
        "colab": {
          "base_uri": "https://localhost:8080/"
        },
        "id": "XHExy0wbdt95",
        "outputId": "a1c481c8-66aa-490c-d4de-4ce985b023e9"
      },
      "source": [
        "decorated()"
      ],
      "execution_count": 28,
      "outputs": [
        {
          "output_type": "stream",
          "name": "stdout",
          "text": [
            "##########\n",
            "welcome to ineuron\n",
            "##########\n"
          ]
        }
      ]
    },
    {
      "cell_type": "code",
      "metadata": {
        "id": "y2YTaJ_TdwI6"
      },
      "source": [
        "@decorate_it\n",
        "def print_me2():\n",
        "  print(\"welcome to ineuron\")"
      ],
      "execution_count": 29,
      "outputs": []
    },
    {
      "cell_type": "code",
      "metadata": {
        "colab": {
          "base_uri": "https://localhost:8080/"
        },
        "id": "BGipjrprd-mK",
        "outputId": "b68488de-40f4-4f87-fe5c-ac2858075562"
      },
      "source": [
        "print_me2()"
      ],
      "execution_count": 30,
      "outputs": [
        {
          "output_type": "stream",
          "name": "stdout",
          "text": [
            "##########\n",
            "welcome to ineuron\n",
            "##########\n"
          ]
        }
      ]
    },
    {
      "cell_type": "markdown",
      "metadata": {
        "id": "1LydqHyceus3"
      },
      "source": [
        "## Calculation of gradients"
      ]
    },
    {
      "cell_type": "code",
      "metadata": {
        "id": "Uzgwy8aGeCHS"
      },
      "source": [
        "x = tf.random.normal(shape=(2,2))\n",
        "y = tf.random.normal(shape=(2,2))"
      ],
      "execution_count": 31,
      "outputs": []
    },
    {
      "cell_type": "markdown",
      "metadata": {
        "id": "_x8--TkKiHY5"
      },
      "source": [
        "$f(x,y) = \\sqrt{(x^2 + y^2)}$\n",
        "\n",
        "$\\nabla f(x,y) = \\frac{\\partial f}{\\partial x}\\hat{\\imath} + \\frac{\\partial f}{\\partial y}\\hat{\\jmath}$"
      ]
    },
    {
      "cell_type": "code",
      "metadata": {
        "colab": {
          "base_uri": "https://localhost:8080/"
        },
        "id": "xE9Mbhy_himz",
        "outputId": "245a3ced-a28e-4aa4-b390-4a9cc69a6971"
      },
      "source": [
        "with tf.GradientTape() as tape:\n",
        "  tape.watch(x)\n",
        "  f = tf.sqrt(tf.square(x) + tf.square(y))\n",
        "  df_dx = tape.gradient(f, x) ## diff of f wrt x\n",
        "  print(df_dx)"
      ],
      "execution_count": 32,
      "outputs": [
        {
          "output_type": "stream",
          "name": "stdout",
          "text": [
            "tf.Tensor(\n",
            "[[-0.58996874  0.9930184 ]\n",
            " [ 0.39844632 -0.9196172 ]], shape=(2, 2), dtype=float32)\n"
          ]
        }
      ]
    },
    {
      "cell_type": "code",
      "metadata": {
        "colab": {
          "base_uri": "https://localhost:8080/"
        },
        "id": "kTYTh-oFiA4q",
        "outputId": "7eca66b0-b1e9-4ac8-e11b-ac2e58f381b5"
      },
      "source": [
        "with tf.GradientTape() as tape:\n",
        "  tape.watch(x)\n",
        "  tape.watch(y)\n",
        "  f = tf.sqrt(tf.square(x) + tf.square(y))\n",
        "  df_dx, df_dy = tape.gradient(f, [x, y]) ## partial diff of f wrt x and y\n",
        "  print(df_dx)\n",
        "  print(df_dy)"
      ],
      "execution_count": 33,
      "outputs": [
        {
          "output_type": "stream",
          "name": "stdout",
          "text": [
            "tf.Tensor(\n",
            "[[-0.58996874  0.9930184 ]\n",
            " [ 0.39844632 -0.9196172 ]], shape=(2, 2), dtype=float32)\n",
            "tf.Tensor(\n",
            "[[ 0.807426   -0.11796025]\n",
            " [-0.9171917  -0.3928159 ]], shape=(2, 2), dtype=float32)\n"
          ]
        }
      ]
    },
    {
      "cell_type": "code",
      "metadata": {
        "colab": {
          "base_uri": "https://localhost:8080/"
        },
        "id": "TfRYpOZdjfdU",
        "outputId": "0f7aa4a5-8cc3-40a6-a153-8087050318ab"
      },
      "source": [
        "with tf.GradientTape() as tape:\n",
        "  f = tf.sqrt(tf.square(x) + tf.square(y))\n",
        "  df_dx = tape.gradient(f, x) ## diff of f wrt x\n",
        "  print(df_dx)"
      ],
      "execution_count": 34,
      "outputs": [
        {
          "output_type": "stream",
          "name": "stdout",
          "text": [
            "None\n"
          ]
        }
      ]
    },
    {
      "cell_type": "code",
      "metadata": {
        "id": "MJ0P1AMtjryU"
      },
      "source": [
        "x = tf.Variable(tf.random.normal(shape=(2,2)))\n",
        "y = tf.Variable(tf.random.normal(shape=(2,2)))"
      ],
      "execution_count": 35,
      "outputs": []
    },
    {
      "cell_type": "code",
      "metadata": {
        "colab": {
          "base_uri": "https://localhost:8080/"
        },
        "id": "kgdb6IQ0j7x2",
        "outputId": "fd801d80-86c1-4fc5-a245-e2c9888a4473"
      },
      "source": [
        "with tf.GradientTape() as tape:\n",
        "  f = tf.sqrt(tf.square(x) + tf.square(y))\n",
        "  df_dx = tape.gradient(f, x) ## diff of f wrt x\n",
        "  print(df_dx)"
      ],
      "execution_count": 36,
      "outputs": [
        {
          "output_type": "stream",
          "name": "stdout",
          "text": [
            "tf.Tensor(\n",
            "[[-0.45863175 -0.99999464]\n",
            " [ 0.7261945  -0.586689  ]], shape=(2, 2), dtype=float32)\n"
          ]
        }
      ]
    },
    {
      "cell_type": "code",
      "metadata": {
        "id": "ZRQtg0ofj9Su"
      },
      "source": [
        "x = tf.Variable(3.)\n",
        "y = tf.Variable(2.)"
      ],
      "execution_count": 37,
      "outputs": []
    },
    {
      "cell_type": "code",
      "metadata": {
        "colab": {
          "base_uri": "https://localhost:8080/"
        },
        "id": "tv4d0-Dtkjws",
        "outputId": "1ad7305a-8d66-4bd2-a275-5282481bb249"
      },
      "source": [
        "with tf.GradientTape() as tape:\n",
        "  f = tf.sqrt(tf.square(x) + tf.square(y))\n",
        "  df_dx = tape.gradient(f, x) ## diff of f wrt x\n",
        "  print(df_dx)"
      ],
      "execution_count": 38,
      "outputs": [
        {
          "output_type": "stream",
          "name": "stdout",
          "text": [
            "tf.Tensor(0.8320503, shape=(), dtype=float32)\n"
          ]
        }
      ]
    },
    {
      "cell_type": "code",
      "metadata": {
        "colab": {
          "base_uri": "https://localhost:8080/"
        },
        "id": "53gIEGOFksG8",
        "outputId": "af538964-80c2-48d6-fe8d-7bd6bf1f9b12"
      },
      "source": [
        "x/tf.sqrt(tf.square(x) + tf.square(y))"
      ],
      "execution_count": 39,
      "outputs": [
        {
          "output_type": "execute_result",
          "data": {
            "text/plain": [
              "<tf.Tensor: shape=(), dtype=float32, numpy=0.8320503>"
            ]
          },
          "metadata": {},
          "execution_count": 39
        }
      ]
    },
    {
      "cell_type": "markdown",
      "metadata": {
        "id": "ODQHbaR8lwIq"
      },
      "source": [
        "# Simple linear Regression Example -\n",
        "\n",
        "$f(x) = W \\cdot x + b$"
      ]
    },
    {
      "cell_type": "code",
      "metadata": {
        "id": "qgNYb_Y2lbG0"
      },
      "source": [
        "TRUE_W = 3.0\n",
        "TRUE_B = 2.0\n",
        "\n",
        "NUM_EXAMPLES = 1000\n",
        "\n",
        "x = tf.random.normal(shape=[NUM_EXAMPLES])\n",
        "# x"
      ],
      "execution_count": 40,
      "outputs": []
    },
    {
      "cell_type": "code",
      "metadata": {
        "id": "CGR-BwFzmkH8"
      },
      "source": [
        "noise = tf.random.normal(shape=[NUM_EXAMPLES])\n",
        "# noise = 0"
      ],
      "execution_count": 41,
      "outputs": []
    },
    {
      "cell_type": "code",
      "metadata": {
        "id": "1EEgUgDrmtiU"
      },
      "source": [
        "y = x * TRUE_W + TRUE_B + noise"
      ],
      "execution_count": 42,
      "outputs": []
    },
    {
      "cell_type": "code",
      "metadata": {
        "colab": {
          "base_uri": "https://localhost:8080/",
          "height": 430
        },
        "id": "Pb5c8tpdmyxM",
        "outputId": "ae529f44-6826-45e8-a111-b1ee7d23a627"
      },
      "source": [
        "import matplotlib.pyplot as plt\n",
        "\n",
        "\n",
        "plt.scatter(x, y, c=\"b\")\n",
        "plt.show()"
      ],
      "execution_count": 43,
      "outputs": [
        {
          "output_type": "display_data",
          "data": {
            "text/plain": [
              "<Figure size 640x480 with 1 Axes>"
            ],
            "image/png": "[encoded data removed]"
          },
          "metadata": {}
        }
      ]
    },
    {
      "cell_type": "markdown",
      "metadata": {
        "id": "_jmQwhXAnQpl"
      },
      "source": [
        "#### Lets define a model"
      ]
    },
    {
      "cell_type": "code",
      "metadata": {
        "id": "RL5R_sjDm9tF"
      },
      "source": [
        "class MyModel(tf.Module):\n",
        "  def __init__(self, **kwargs):\n",
        "    super().__init__(**kwargs)\n",
        "\n",
        "    self.w = tf.Variable(5.0)\n",
        "    self.b = tf.Variable(0.0)\n",
        "\n",
        "  def __call__(self, x):\n",
        "    return self.w * x + self.b\n"
      ],
      "execution_count": 44,
      "outputs": []
    },
    {
      "cell_type": "code",
      "metadata": {
        "id": "qdncRg-fntE0"
      },
      "source": [
        "class Test:\n",
        "  def __init__(self, x):\n",
        "    self.x = x\n",
        "\n",
        "  def __call__(self):\n",
        "    return self.x ** 2"
      ],
      "execution_count": 45,
      "outputs": []
    },
    {
      "cell_type": "code",
      "metadata": {
        "id": "fF6ducuLn1lf"
      },
      "source": [
        "obj = Test(2)"
      ],
      "execution_count": 46,
      "outputs": []
    },
    {
      "cell_type": "code",
      "metadata": {
        "colab": {
          "base_uri": "https://localhost:8080/"
        },
        "id": "auihLugPn4n1",
        "outputId": "f684f616-14fe-49d2-b7dc-73c71f80feab"
      },
      "source": [
        "obj()"
      ],
      "execution_count": 47,
      "outputs": [
        {
          "output_type": "execute_result",
          "data": {
            "text/plain": [
              "4"
            ]
          },
          "metadata": {},
          "execution_count": 47
        }
      ]
    },
    {
      "cell_type": "code",
      "metadata": {
        "id": "keVd6ToVn7oN"
      },
      "source": [
        "class MyModel(tf.Module):\n",
        "  def __init__(self, **kwargs):\n",
        "    super().__init__(**kwargs)\n",
        "\n",
        "    self.w = tf.Variable(5.0)\n",
        "    self.b = tf.Variable(0.0)\n",
        "\n",
        "  def __call__(self, x):\n",
        "    y_hat = self.w * x + self.b\n",
        "    return y_hat"
      ],
      "execution_count": 48,
      "outputs": []
    },
    {
      "cell_type": "code",
      "metadata": {
        "id": "oDWgmew2oKzs"
      },
      "source": [
        "model = MyModel()"
      ],
      "execution_count": 49,
      "outputs": []
    },
    {
      "cell_type": "code",
      "metadata": {
        "colab": {
          "base_uri": "https://localhost:8080/"
        },
        "id": "-XaNf4foqYTp",
        "outputId": "3365322b-0036-45d9-8874-372631df1b4f"
      },
      "source": [
        "model.w"
      ],
      "execution_count": 50,
      "outputs": [
        {
          "output_type": "execute_result",
          "data": {
            "text/plain": [
              "<tf.Variable 'Variable:0' shape=() dtype=float32, numpy=5.0>"
            ]
          },
          "metadata": {},
          "execution_count": 50
        }
      ]
    },
    {
      "cell_type": "code",
      "metadata": {
        "colab": {
          "base_uri": "https://localhost:8080/"
        },
        "id": "yslONvCDqaL0",
        "outputId": "4e9004c6-c616-4151-fa53-339eb58015ad"
      },
      "source": [
        "model.b"
      ],
      "execution_count": 51,
      "outputs": [
        {
          "output_type": "execute_result",
          "data": {
            "text/plain": [
              "<tf.Variable 'Variable:0' shape=() dtype=float32, numpy=0.0>"
            ]
          },
          "metadata": {},
          "execution_count": 51
        }
      ]
    },
    {
      "cell_type": "code",
      "metadata": {
        "colab": {
          "base_uri": "https://localhost:8080/"
        },
        "id": "wurnnYZmoPf9",
        "outputId": "ad7cf3cc-8b1d-4746-fe24-08b66b1d6606"
      },
      "source": [
        "model.variables"
      ],
      "execution_count": 52,
      "outputs": [
        {
          "output_type": "execute_result",
          "data": {
            "text/plain": [
              "(<tf.Variable 'Variable:0' shape=() dtype=float32, numpy=0.0>,\n",
              " <tf.Variable 'Variable:0' shape=() dtype=float32, numpy=5.0>)"
            ]
          },
          "metadata": {},
          "execution_count": 52
        }
      ]
    },
    {
      "cell_type": "code",
      "metadata": {
        "colab": {
          "base_uri": "https://localhost:8080/"
        },
        "id": "XfWJqbQtoS0l",
        "outputId": "3cc31afe-09aa-44fd-db48-1941e723384c"
      },
      "source": [
        "model(3.0).numpy()"
      ],
      "execution_count": 53,
      "outputs": [
        {
          "output_type": "execute_result",
          "data": {
            "text/plain": [
              "15.0"
            ]
          },
          "metadata": {},
          "execution_count": 53
        }
      ]
    },
    {
      "cell_type": "markdown",
      "metadata": {
        "id": "-PJ6b4RhoiPo"
      },
      "source": [
        "#### Define a loss function"
      ]
    },
    {
      "cell_type": "code",
      "metadata": {
        "id": "qO-5RnyQocdt"
      },
      "source": [
        "def MSE_loss(target_y, predicted_y):\n",
        "  error = target_y - predicted_y\n",
        "  squared_error = tf.square(error)\n",
        "  mse = tf.reduce_mean(squared_error)\n",
        "  return mse"
      ],
      "execution_count": 54,
      "outputs": []
    },
    {
      "cell_type": "code",
      "metadata": {
        "colab": {
          "base_uri": "https://localhost:8080/",
          "height": 430
        },
        "id": "5lgh0_NBo_DV",
        "outputId": "7d5f8570-4909-4653-f012-25197fdcec8e"
      },
      "source": [
        "plt.scatter(x, y, c=\"b\")\n",
        "\n",
        "pred_y = model(x) ## without training\n",
        "plt.scatter(x, pred_y, c=\"r\")\n",
        "plt.show()"
      ],
      "execution_count": 55,
      "outputs": [
        {
          "output_type": "display_data",
          "data": {
            "text/plain": [
              "<Figure size 640x480 with 1 Axes>"
            ],
            "image/png": "[encoded data removed]"
          },
          "metadata": {}
        }
      ]
    },
    {
      "cell_type": "code",
      "metadata": {
        "colab": {
          "base_uri": "https://localhost:8080/"
        },
        "id": "qLodDLyRpTBN",
        "outputId": "b1c12ef5-fb8f-4e76-b3cd-5c61251971f1"
      },
      "source": [
        "current_loss = MSE_loss(y, model(x))\n",
        "current_loss.numpy() ## without training"
      ],
      "execution_count": 56,
      "outputs": [
        {
          "output_type": "execute_result",
          "data": {
            "text/plain": [
              "8.972121"
            ]
          },
          "metadata": {},
          "execution_count": 56
        }
      ]
    },
    {
      "cell_type": "markdown",
      "metadata": {
        "id": "RkM3yPi5pst8"
      },
      "source": [
        "#### Define our training loop"
      ]
    },
    {
      "cell_type": "code",
      "metadata": {
        "id": "0q_aMK0kpnrF"
      },
      "source": [
        "def train(model, x, y, learning_rate):\n",
        "\n",
        "  with tf.GradientTape() as tape:\n",
        "    current_loss = MSE_loss(y, model(x))\n",
        "\n",
        "  dc_dw, dc_db = tape.gradient(current_loss, [model.w, model.b])\n",
        "\n",
        "  model.w.assign_sub(learning_rate * dc_dw)\n",
        "  model.b.assign_sub(learning_rate * dc_db)"
      ],
      "execution_count": 57,
      "outputs": []
    },
    {
      "cell_type": "code",
      "metadata": {
        "colab": {
          "base_uri": "https://localhost:8080/"
        },
        "id": "3gfis-tcq-uA",
        "outputId": "68d6776c-19d0-445d-9605-a96ee351ddbb"
      },
      "source": [
        "model = MyModel()\n",
        "\n",
        "Ws, bs = [], []\n",
        "epochs = 10\n",
        "learning_rate = 0.1\n",
        "\n",
        "w = model.w.numpy()\n",
        "b = model.b.numpy()\n",
        "\n",
        "init_loss = MSE_loss(y, model(x))\n",
        " ## without training\n",
        "\n",
        "print(f\"Initial W: {w}, initial bias: {b}, initial loss: {init_loss.numpy()}\")"
      ],
      "execution_count": 58,
      "outputs": [
        {
          "output_type": "stream",
          "name": "stdout",
          "text": [
            "Initial W: 5.0, initial bias: 0.0, initial loss: 8.972121238708496\n"
          ]
        }
      ]
    },
    {
      "cell_type": "code",
      "metadata": {
        "colab": {
          "base_uri": "https://localhost:8080/"
        },
        "id": "nwiL9f6kr8Bu",
        "outputId": "65b9297c-9bc6-4590-c344-bb48290edf26"
      },
      "source": [
        "for epoch in range(epochs):\n",
        "  train(model, x, y, learning_rate)\n",
        "\n",
        "  Ws.append(model.w.numpy())\n",
        "  bs.append(model.b.numpy())\n",
        "\n",
        "  current_loss = MSE_loss(y, model(x))\n",
        "\n",
        "  print(f\"For epoch: {epoch}, W: {Ws[-1]}, b: {bs[-1]}, current_loss: {current_loss}\")"
      ],
      "execution_count": 59,
      "outputs": [
        {
          "output_type": "stream",
          "name": "stdout",
          "text": [
            "For epoch: 0, W: 4.613381385803223, b: 0.41168197989463806, current_loss: 6.10175895690918\n",
            "For epoch: 1, W: 4.302654266357422, b: 0.7395656108856201, current_loss: 4.265348434448242\n",
            "For epoch: 2, W: 4.052910327911377, b: 1.0006974935531616, current_loss: 3.0903468132019043\n",
            "For epoch: 3, W: 3.8521718978881836, b: 1.2086585760116577, current_loss: 2.3384745121002197\n",
            "For epoch: 4, W: 3.6908159255981445, b: 1.3742684125900269, current_loss: 1.8573169708251953\n",
            "For epoch: 5, W: 3.561109781265259, b: 1.5061461925506592, current_loss: 1.549375057220459\n",
            "For epoch: 6, W: 3.456840991973877, b: 1.6111578941345215, current_loss: 1.352273941040039\n",
            "For epoch: 7, W: 3.373016834259033, b: 1.6947729587554932, current_loss: 1.2261056900024414\n",
            "For epoch: 8, W: 3.3056259155273438, b: 1.761348009109497, current_loss: 1.1453359127044678\n",
            "For epoch: 9, W: 3.251443862915039, b: 1.8143532276153564, current_loss: 1.0936236381530762\n"
          ]
        }
      ]
    },
    {
      "cell_type": "code",
      "metadata": {
        "colab": {
          "base_uri": "https://localhost:8080/",
          "height": 430
        },
        "id": "fJZsgRrUsoqd",
        "outputId": "3b278cfa-d7ae-4382-8f0a-4ec8de57e672"
      },
      "source": [
        "plt.plot(range(epochs), Ws, \"r\", range(epochs), bs, \"b\")\n",
        "\n",
        "plt.plot([TRUE_W] * epochs, \"r--\", [TRUE_B] *epochs, \"b--\")\n",
        "\n",
        "plt.legend([\"W\", \"b\", \"True W\", \"True b\"])\n",
        "plt.show()"
      ],
      "execution_count": 60,
      "outputs": [
        {
          "output_type": "display_data",
          "data": {
            "text/plain": [
              "<Figure size 640x480 with 1 Axes>"
            ],
            "image/png": "[encoded data removed]"
          },
          "metadata": {}
        }
      ]
    },
    {
      "cell_type": "code",
      "metadata": {
        "colab": {
          "base_uri": "https://localhost:8080/"
        },
        "id": "4aE_lho_yDOa",
        "outputId": "a50eeacc-a904-4043-f217-4bdc7ee64cc6"
      },
      "source": [
        "[TRUE_W] * epochs"
      ],
      "execution_count": 61,
      "outputs": [
        {
          "output_type": "execute_result",
          "data": {
            "text/plain": [
              "[3.0, 3.0, 3.0, 3.0, 3.0, 3.0, 3.0, 3.0, 3.0, 3.0]"
            ]
          },
          "metadata": {},
          "execution_count": 61
        }
      ]
    },
    {
      "cell_type": "code",
      "metadata": {
        "colab": {
          "base_uri": "https://localhost:8080/",
          "height": 430
        },
        "id": "cYyeZcBVtP2f",
        "outputId": "cafec74f-ab2c-41fb-f76b-753827ad6b6a"
      },
      "source": [
        "plt.scatter(x, y, c=\"b\")\n",
        "\n",
        "pred_y = model(x) ## without training\n",
        "plt.scatter(x, pred_y, c=\"r\")\n",
        "plt.show()"
      ],
      "execution_count": 62,
      "outputs": [
        {
          "output_type": "display_data",
          "data": {
            "text/plain": [
              "<Figure size 640x480 with 1 Axes>"
            ],
            "image/png": "[encoded data removed]"
          },
          "metadata": {}
        }
      ]
    },
    {
      "cell_type": "code",
      "metadata": {
        "colab": {
          "base_uri": "https://localhost:8080/"
        },
        "id": "WRwAp2JNt_mn",
        "outputId": "39a47dc7-553c-4ea8-d163-dcafb6cf698f"
      },
      "source": [
        "current_loss = MSE_loss(y, model(x))\n",
        "current_loss.numpy() ## after training"
      ],
      "execution_count": 63,
      "outputs": [
        {
          "output_type": "execute_result",
          "data": {
            "text/plain": [
              "1.0936236"
            ]
          },
          "metadata": {},
          "execution_count": 63
        }
      ]
    },
    {
      "cell_type": "code",
      "metadata": {
        "colab": {
          "base_uri": "https://localhost:8080/"
        },
        "id": "ztUeqdVLuF1u",
        "outputId": "c1262455-96fb-44bf-d117-0d3f3ccdd362"
      },
      "source": [
        "def branch_and_subjects_in_graduation(*args, branch):\n",
        "    print(f\"My branch was {branch}\")\n",
        "    return f\"I liked these subjects in graduation {args}\"\n",
        "\n",
        "results = branch_and_subjects_in_graduation(\"Digital Image Processing\", \"Microprocessor\", branch=\"Electronics engineering\")\n",
        "print(results)"
      ],
      "execution_count": 64,
      "outputs": [
        {
          "output_type": "stream",
          "name": "stdout",
          "text": [
            "My branch was Electronics engineering\n",
            "I liked these subjects in graduation ('Digital Image Processing', 'Microprocessor')\n"
          ]
        }
      ]
    },
    {
      "cell_type": "code",
      "metadata": {
        "colab": {
          "base_uri": "https://localhost:8080/"
        },
        "id": "HFfJZhfj2g9_",
        "outputId": "a4b0f942-b15e-4949-a8af-ff65d6eb4f2a"
      },
      "source": [
        "results = branch_and_subjects_in_graduation(\"ML\", \"DL\", branch=\"data science\")\n",
        "print(results)"
      ],
      "execution_count": 65,
      "outputs": [
        {
          "output_type": "stream",
          "name": "stdout",
          "text": [
            "My branch was data science\n",
            "I liked these subjects in graduation ('ML', 'DL')\n"
          ]
        }
      ]
    },
    {
      "cell_type": "code",
      "metadata": {
        "colab": {
          "base_uri": "https://localhost:8080/"
        },
        "id": "qOXgcZzC2qwR",
        "outputId": "85068360-0c55-47cd-b7cf-efaff318a793"
      },
      "source": [
        "results = branch_and_subjects_in_graduation(\"ML\", \"stats\", branch=\"data science\")\n",
        "print(results)"
      ],
      "execution_count": 66,
      "outputs": [
        {
          "output_type": "stream",
          "name": "stdout",
          "text": [
            "My branch was data science\n",
            "I liked these subjects in graduation ('ML', 'stats')\n"
          ]
        }
      ]
    },
    {
      "cell_type": "code",
      "metadata": {
        "colab": {
          "base_uri": "https://localhost:8080/"
        },
        "id": "9Xrz5WY_2uMr",
        "outputId": "c9781314-9506-41c9-cec7-dabb312fd0b7"
      },
      "source": [
        "results = branch_and_subjects_in_graduation(\"ML\", \"stats\", \"DL\", \"CV\", branch=\"data science\")\n",
        "print(results)"
      ],
      "execution_count": 67,
      "outputs": [
        {
          "output_type": "stream",
          "name": "stdout",
          "text": [
            "My branch was data science\n",
            "I liked these subjects in graduation ('ML', 'stats', 'DL', 'CV')\n"
          ]
        }
      ]
    },
    {
      "cell_type": "code",
      "metadata": {
        "colab": {
          "base_uri": "https://localhost:8080/"
        },
        "id": "yEfckFOu21VR",
        "outputId": "10cb496e-b5ea-4e33-f14c-46b4d2163e31"
      },
      "source": [
        "def marks_in_subjects_of_semester(**kwargs):\n",
        "    for subject, marks in kwargs.items():\n",
        "        print(f\"Score in {subject} = {marks}\")\n",
        "\n",
        "marks_in_subjects_of_semester(DL = 78, ML= 79)"
      ],
      "execution_count": 68,
      "outputs": [
        {
          "output_type": "stream",
          "name": "stdout",
          "text": [
            "Score in DL = 78\n",
            "Score in ML = 79\n"
          ]
        }
      ]
    },
    {
      "cell_type": "code",
      "metadata": {
        "id": "Q8kaT9V83BuA"
      },
      "source": [],
      "execution_count": 68,
      "outputs": []
    }
  ]
}